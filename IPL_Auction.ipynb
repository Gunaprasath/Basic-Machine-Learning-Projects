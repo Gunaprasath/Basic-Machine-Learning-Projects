{
 "cells": [
  {
   "cell_type": "code",
   "execution_count": 16,
   "id": "07d57435",
   "metadata": {},
   "outputs": [],
   "source": [
    "from sklearn.linear_model import LinearRegression\n",
    "import pandas as pd"
   ]
  },
  {
   "cell_type": "code",
   "execution_count": 24,
   "id": "51c1e096",
   "metadata": {},
   "outputs": [],
   "source": [
    "df=pd.read_csv('iplauction2023.csv')"
   ]
  },
  {
   "cell_type": "code",
   "execution_count": 25,
   "id": "de4dc573",
   "metadata": {},
   "outputs": [
    {
     "data": {
      "text/html": [
       "<div>\n",
       "<style scoped>\n",
       "    .dataframe tbody tr th:only-of-type {\n",
       "        vertical-align: middle;\n",
       "    }\n",
       "\n",
       "    .dataframe tbody tr th {\n",
       "        vertical-align: top;\n",
       "    }\n",
       "\n",
       "    .dataframe thead th {\n",
       "        text-align: right;\n",
       "    }\n",
       "</style>\n",
       "<table border=\"1\" class=\"dataframe\">\n",
       "  <thead>\n",
       "    <tr style=\"text-align: right;\">\n",
       "      <th></th>\n",
       "      <th>name</th>\n",
       "      <th>player style</th>\n",
       "      <th>nationality</th>\n",
       "      <th>base price (in lacs)</th>\n",
       "      <th>final price (in lacs)</th>\n",
       "      <th>franchise</th>\n",
       "      <th>status</th>\n",
       "    </tr>\n",
       "  </thead>\n",
       "  <tbody>\n",
       "    <tr>\n",
       "      <th>0</th>\n",
       "      <td>Harshit Rana</td>\n",
       "      <td>Bowler</td>\n",
       "      <td>India</td>\n",
       "      <td>NaN</td>\n",
       "      <td>20.0</td>\n",
       "      <td>KKR</td>\n",
       "      <td>RETAINED</td>\n",
       "    </tr>\n",
       "    <tr>\n",
       "      <th>1</th>\n",
       "      <td>Ekant Sen</td>\n",
       "      <td>Batter</td>\n",
       "      <td>India</td>\n",
       "      <td>20.0</td>\n",
       "      <td>NaN</td>\n",
       "      <td>NaN</td>\n",
       "      <td>UNSOLD</td>\n",
       "    </tr>\n",
       "    <tr>\n",
       "      <th>2</th>\n",
       "      <td>Wayne Parnell</td>\n",
       "      <td>Allrounder</td>\n",
       "      <td>South Africa</td>\n",
       "      <td>75.0</td>\n",
       "      <td>NaN</td>\n",
       "      <td>NaN</td>\n",
       "      <td>UNSOLD</td>\n",
       "    </tr>\n",
       "    <tr>\n",
       "      <th>3</th>\n",
       "      <td>Shakib Al Hasan</td>\n",
       "      <td>Allrounder</td>\n",
       "      <td>Bangladesh</td>\n",
       "      <td>150.0</td>\n",
       "      <td>150.0</td>\n",
       "      <td>KKR</td>\n",
       "      <td>SOLD</td>\n",
       "    </tr>\n",
       "    <tr>\n",
       "      <th>4</th>\n",
       "      <td>Joe Root</td>\n",
       "      <td>Batter</td>\n",
       "      <td>England</td>\n",
       "      <td>100.0</td>\n",
       "      <td>100.0</td>\n",
       "      <td>RR</td>\n",
       "      <td>SOLD</td>\n",
       "    </tr>\n",
       "  </tbody>\n",
       "</table>\n",
       "</div>"
      ],
      "text/plain": [
       "              name player style   nationality  base price (in lacs)  \\\n",
       "0     Harshit Rana       Bowler         India                   NaN   \n",
       "1        Ekant Sen       Batter         India                  20.0   \n",
       "2    Wayne Parnell   Allrounder  South Africa                  75.0   \n",
       "3  Shakib Al Hasan   Allrounder    Bangladesh                 150.0   \n",
       "4         Joe Root       Batter       England                 100.0   \n",
       "\n",
       "   final price (in lacs) franchise    status  \n",
       "0                   20.0       KKR  RETAINED  \n",
       "1                    NaN       NaN    UNSOLD  \n",
       "2                    NaN       NaN    UNSOLD  \n",
       "3                  150.0       KKR      SOLD  \n",
       "4                  100.0        RR      SOLD  "
      ]
     },
     "execution_count": 25,
     "metadata": {},
     "output_type": "execute_result"
    }
   ],
   "source": [
    "df.head()"
   ]
  },
  {
   "cell_type": "code",
   "execution_count": 26,
   "id": "13ac9aab",
   "metadata": {},
   "outputs": [
    {
     "data": {
      "text/plain": [
       "name                       0\n",
       "player style               0\n",
       "nationality                0\n",
       "base price (in lacs)     158\n",
       "final price (in lacs)     71\n",
       "franchise                 71\n",
       "status                     0\n",
       "dtype: int64"
      ]
     },
     "execution_count": 26,
     "metadata": {},
     "output_type": "execute_result"
    }
   ],
   "source": [
    "df.isnull().sum()"
   ]
  },
  {
   "cell_type": "code",
   "execution_count": 27,
   "id": "73f58a35",
   "metadata": {},
   "outputs": [
    {
     "data": {
      "text/plain": [
       "(309, 7)"
      ]
     },
     "execution_count": 27,
     "metadata": {},
     "output_type": "execute_result"
    }
   ],
   "source": [
    "df.shape"
   ]
  },
  {
   "cell_type": "code",
   "execution_count": 36,
   "id": "d5e11d3d",
   "metadata": {},
   "outputs": [
    {
     "data": {
      "text/html": [
       "<div>\n",
       "<style scoped>\n",
       "    .dataframe tbody tr th:only-of-type {\n",
       "        vertical-align: middle;\n",
       "    }\n",
       "\n",
       "    .dataframe tbody tr th {\n",
       "        vertical-align: top;\n",
       "    }\n",
       "\n",
       "    .dataframe thead th {\n",
       "        text-align: right;\n",
       "    }\n",
       "</style>\n",
       "<table border=\"1\" class=\"dataframe\">\n",
       "  <thead>\n",
       "    <tr style=\"text-align: right;\">\n",
       "      <th></th>\n",
       "      <th>Name</th>\n",
       "      <th>Player_Style</th>\n",
       "      <th>Nationality</th>\n",
       "      <th>Base_Price</th>\n",
       "      <th>Final_Price</th>\n",
       "      <th>Team</th>\n",
       "      <th>Status</th>\n",
       "    </tr>\n",
       "  </thead>\n",
       "  <tbody>\n",
       "    <tr>\n",
       "      <th>0</th>\n",
       "      <td>Harshit Rana</td>\n",
       "      <td>Bowler</td>\n",
       "      <td>India</td>\n",
       "      <td>NaN</td>\n",
       "      <td>20.0</td>\n",
       "      <td>KKR</td>\n",
       "      <td>RETAINED</td>\n",
       "    </tr>\n",
       "    <tr>\n",
       "      <th>1</th>\n",
       "      <td>Ekant Sen</td>\n",
       "      <td>Batter</td>\n",
       "      <td>India</td>\n",
       "      <td>20.0</td>\n",
       "      <td>NaN</td>\n",
       "      <td>NaN</td>\n",
       "      <td>UNSOLD</td>\n",
       "    </tr>\n",
       "    <tr>\n",
       "      <th>2</th>\n",
       "      <td>Wayne Parnell</td>\n",
       "      <td>Allrounder</td>\n",
       "      <td>South Africa</td>\n",
       "      <td>75.0</td>\n",
       "      <td>NaN</td>\n",
       "      <td>NaN</td>\n",
       "      <td>UNSOLD</td>\n",
       "    </tr>\n",
       "    <tr>\n",
       "      <th>3</th>\n",
       "      <td>Shakib Al Hasan</td>\n",
       "      <td>Allrounder</td>\n",
       "      <td>Bangladesh</td>\n",
       "      <td>150.0</td>\n",
       "      <td>150.0</td>\n",
       "      <td>KKR</td>\n",
       "      <td>SOLD</td>\n",
       "    </tr>\n",
       "    <tr>\n",
       "      <th>4</th>\n",
       "      <td>Joe Root</td>\n",
       "      <td>Batter</td>\n",
       "      <td>England</td>\n",
       "      <td>100.0</td>\n",
       "      <td>100.0</td>\n",
       "      <td>RR</td>\n",
       "      <td>SOLD</td>\n",
       "    </tr>\n",
       "  </tbody>\n",
       "</table>\n",
       "</div>"
      ],
      "text/plain": [
       "              Name Player_Style   Nationality  Base_Price  Final_Price Team  \\\n",
       "0     Harshit Rana       Bowler         India         NaN         20.0  KKR   \n",
       "1        Ekant Sen       Batter         India        20.0          NaN  NaN   \n",
       "2    Wayne Parnell   Allrounder  South Africa        75.0          NaN  NaN   \n",
       "3  Shakib Al Hasan   Allrounder    Bangladesh       150.0        150.0  KKR   \n",
       "4         Joe Root       Batter       England       100.0        100.0   RR   \n",
       "\n",
       "     Status  \n",
       "0  RETAINED  \n",
       "1    UNSOLD  \n",
       "2    UNSOLD  \n",
       "3      SOLD  \n",
       "4      SOLD  "
      ]
     },
     "execution_count": 36,
     "metadata": {},
     "output_type": "execute_result"
    }
   ],
   "source": [
    "df.rename(columns={'name':'Name','player style':'Player_Style','nationality':'Nationality','base price (in lacs)':'Base_Price','final price (in lacs)':'Final_Price','franchise':'Team','status':'Status'},inplace=True)\n",
    "df.head()"
   ]
  },
  {
   "cell_type": "code",
   "execution_count": null,
   "id": "00df0bb6",
   "metadata": {},
   "outputs": [],
   "source": []
  },
  {
   "cell_type": "code",
   "execution_count": null,
   "id": "5d6f692d",
   "metadata": {},
   "outputs": [],
   "source": []
  },
  {
   "cell_type": "code",
   "execution_count": null,
   "id": "1eb26491",
   "metadata": {},
   "outputs": [],
   "source": []
  },
  {
   "cell_type": "code",
   "execution_count": null,
   "id": "04602448",
   "metadata": {},
   "outputs": [],
   "source": []
  },
  {
   "cell_type": "code",
   "execution_count": null,
   "id": "9a12d535",
   "metadata": {},
   "outputs": [],
   "source": []
  },
  {
   "cell_type": "code",
   "execution_count": null,
   "id": "5994b9c3",
   "metadata": {},
   "outputs": [],
   "source": []
  },
  {
   "cell_type": "code",
   "execution_count": null,
   "id": "916d57aa",
   "metadata": {},
   "outputs": [],
   "source": []
  }
 ],
 "metadata": {
  "kernelspec": {
   "display_name": "Python 3 (ipykernel)",
   "language": "python",
   "name": "python3"
  },
  "language_info": {
   "codemirror_mode": {
    "name": "ipython",
    "version": 3
   },
   "file_extension": ".py",
   "mimetype": "text/x-python",
   "name": "python",
   "nbconvert_exporter": "python",
   "pygments_lexer": "ipython3",
   "version": "3.10.9"
  }
 },
 "nbformat": 4,
 "nbformat_minor": 5
}
